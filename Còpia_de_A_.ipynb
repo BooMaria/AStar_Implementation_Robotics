{
  "nbformat": 4,
  "nbformat_minor": 0,
  "metadata": {
    "colab": {
      "name": "Còpia de A*.ipynb",
      "provenance": [],
      "collapsed_sections": [],
      "include_colab_link": true
    },
    "kernelspec": {
      "name": "python3",
      "display_name": "Python 3"
    },
    "language_info": {
      "name": "python"
    }
  },
  "cells": [
    {
      "cell_type": "markdown",
      "metadata": {
        "id": "view-in-github",
        "colab_type": "text"
      },
      "source": [
        "<a href=\"https://colab.research.google.com/github/BooMaria/AStar_Implementation_Robotics/blob/main/C%C3%B2pia_de_A_.ipynb\" target=\"_parent\"><img src=\"https://colab.research.google.com/assets/colab-badge.svg\" alt=\"Open In Colab\"/></a>"
      ]
    },
    {
      "cell_type": "markdown",
      "source": [
        "Librays used "
      ],
      "metadata": {
        "id": "JyghxBpBhMIj"
      }
    },
    {
      "cell_type": "code",
      "execution_count": 91,
      "metadata": {
        "id": "cVrw0iRsnVMh"
      },
      "outputs": [],
      "source": [
        "import sys\n",
        "import datetime\n"
      ]
    },
    {
      "cell_type": "markdown",
      "source": [
        "# A* algorithm\n",
        "\n",
        "declaration of the class TreeNode\n",
        "\n",
        "\n",
        "Used to solve the maze"
      ],
      "metadata": {
        "id": "3EVn9c0kniQk"
      }
    },
    {
      "cell_type": "code",
      "source": [
        "\n",
        "class TreeNode(object):\n",
        "    def __init__(self, id_, x,y,end = False,dad= None):\n",
        "        self.id = id_\n",
        "        self.children = []\n",
        "        self.g = -1\n",
        "        self.h = -1\n",
        "        self.f = 0\n",
        "        self.x = x\n",
        "        self.y = y\n",
        "        self.dad = None\n",
        "        self.path = []\n",
        "        self.end = end\n",
        "    \n",
        "    def __repr__(self):\n",
        "        return \"[%s]\" % self.id\n",
        "    \n",
        "    def add_child(self, node):\n",
        "        node.add_dad(self)\n",
        "        self.children.append(node)\n",
        "\n",
        "\n",
        "    def add_path(self):\n",
        "        self.path = self.dad.path[:]\n",
        "        self.path.append(self)\n",
        "    \n",
        "    def add_dad(self, node):\n",
        "        self.dad = node\n",
        "\n",
        "    def get_dad(self):\n",
        "        return self.dad\n",
        "    \n",
        "    def get_children(self):\n",
        "        return self.children\n",
        "    \n",
        "    def get_rev_children(self):\n",
        "        children = self.children[:]\n",
        "        children.reverse()\n",
        "        return children\n",
        "\n",
        "    def get_h(self ):\n",
        "        return self.h\n",
        "        \n",
        "    def set_h(self, h):\n",
        "        self.h = h\n",
        "\n",
        "    def get_g(self): \n",
        "        return self.g\n",
        "\n",
        "    def set_g(self, g):\n",
        "        self.g = g\n",
        "\n",
        "    def get_x(self):\n",
        "        return self.x\n",
        "\n",
        "    def get_y(self):\n",
        "        return self.y\n",
        "\n",
        "    \n",
        "    def get_end(self):\n",
        "      return self.end\n",
        "\n",
        "\n"
      ],
      "metadata": {
        "id": "y5pfAdbqnyUV"
      },
      "execution_count": 92,
      "outputs": []
    },
    {
      "cell_type": "markdown",
      "source": [
        "# First tree 3*3 as an example"
      ],
      "metadata": {
        "id": "H_ErYNMUhckt"
      }
    },
    {
      "cell_type": "code",
      "source": [
        "def get_tree1():\n",
        "    \n",
        "    #create node\n",
        "    root = TreeNode(\"a3\",1,3,0)\n",
        "    root.path.append(root) \n",
        "    b3 = TreeNode(\"b3\",2,3,0) \n",
        "    c3 = TreeNode(\"c3\",3,3,0) \n",
        "    c2 = TreeNode(\"a2\",1,2,0) \n",
        "    b2 = TreeNode(\"b2\",2,2,0) \n",
        "    a2 = TreeNode(\"c2\",3,2,0) \n",
        "    a1 = TreeNode(\"a1\",1,1,1) \n",
        "    b1 = TreeNode(\"b1\",2,1,0) \n",
        "    c1 = TreeNode(\"c1\",3,1,0)\n",
        "    \n",
        "    \n",
        "    #add nodes\n",
        "    root.add_child(b3) \n",
        "    b3.add_child(c3) \n",
        "    b3.add_child(b2) \n",
        "    b3.add_path() \n",
        "\n",
        "    c3.add_child(c2) \n",
        "    c3.add_path() \n",
        "\n",
        "    c2.add_child(c1) \n",
        "    c2.add_path() \n",
        "    c1.add_path()\n",
        "    ###----\n",
        "    b2.add_child(a2) \n",
        "    b2.add_path() \n",
        "\n",
        "    a2.add_child(a1) \n",
        "    a2.add_path()\n",
        "\n",
        "    a1.add_child(b1) \n",
        "    a1.add_path() \n",
        "    b1.add_path()\n",
        "    ##----\n",
        "    \n",
        "    return root\n",
        "\n",
        "def get_tree2():\n",
        "    # create node\n",
        "    root = TreeNode(\"d2\", 4, 2)\n",
        "    d1 = TreeNode(\"d1\", 4, 1)\n",
        "    d3 = TreeNode(\"d3\", 4, 3)\n",
        "    d4 = TreeNode(\"d4\", 4, 4)\n",
        "    c4 = TreeNode(\"c4\", 3, 4)\n",
        "    b4 = TreeNode(\"b4\", 2, 4)\n",
        "    a4 = TreeNode(\"a4\", 1, 4)\n",
        "    a3 = TreeNode(\"a3\", 1, 3)\n",
        "    b3 = TreeNode(\"b3\", 2, 3)\n",
        "    c3 = TreeNode(\"c3\", 3, 3)\n",
        "    c2 = TreeNode(\"c2\", 3, 2)\n",
        "    c1 = TreeNode(\"c1\", 3, 1)\n",
        "    b2 = TreeNode(\"b2\", 2, 2)\n",
        "    b1 = TreeNode(\"b1\", 2, 1)\n",
        "    a2 = TreeNode(\"a2\", 1, 2)\n",
        "    a1 = TreeNode(\"a1\", 1, 1)\n",
        "\n",
        "    # add nodes\n",
        "    root.path.append(root)\n",
        "    root.add_child(d1)\n",
        "    root.add_child(d3)\n",
        "\n",
        "    d1.add_path()\n",
        "\n",
        "    d3.add_child(d4)\n",
        "\n",
        "    d3.add_path()\n",
        "\n",
        "    d4.add_child(c4)\n",
        "\n",
        "    d4.add_path()\n",
        "\n",
        "    c4.add_child(b4)\n",
        "\n",
        "    c4.add_path()\n",
        "\n",
        "    b4.add_child(a4)\n",
        "\n",
        "    b4.add_child(b3)\n",
        "\n",
        "    b4.add_path()\n",
        "\n",
        "    a4.add_child(a3)\n",
        "\n",
        "    a4.add_path()\n",
        "\n",
        "    a3.add_path()\n",
        "\n",
        "    b3.add_child(c3)\n",
        "\n",
        "    b3.add_path()\n",
        "\n",
        "    c3.add_child(c2)\n",
        "\n",
        "    c3.add_path()\n",
        "\n",
        "    c2.add_child(b2)\n",
        "\n",
        "    c2.add_child(c1)\n",
        "\n",
        "    c2.add_path()\n",
        "\n",
        "    c1.add_path()\n",
        "\n",
        "    b2.add_child(b1)\n",
        "\n",
        "    b2.add_child(a2)\n",
        "\n",
        "    b2.add_path()\n",
        "\n",
        "    b1.add_path()\n",
        "\n",
        "    a2.add_child(a1)\n",
        "\n",
        "    a2.add_path()\n",
        "\n",
        "    a1.add_path()\n",
        "\n",
        "    return root"
      ],
      "metadata": {
        "id": "qfKn5XVlp6j7"
      },
      "execution_count": 93,
      "outputs": []
    },
    {
      "cell_type": "markdown",
      "source": [
        "# Implemented tree 4*4\n",
        "![Untitled Diagram.drawio.png](data:image/png;base64,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)"
      ],
      "metadata": {
        "id": "M-wwgAh15Eo-"
      }
    },
    {
      "cell_type": "code",
      "source": [
        "# Test trees\n",
        "\n",
        "def get_tree():\n",
        "    \n",
        "    root = TreeNode(\"a4\", 0, 0)\n",
        "    root.path.append(root)\n",
        "\n",
        "    a1 = TreeNode(\"a3\", 1, 0)\n",
        "    a2 = TreeNode(\"a2\", 2, 0)\n",
        "    a3 = TreeNode(\"a1\", 3, 0)\n",
        "    \n",
        "    b4 = TreeNode(\"b4\", 0, 1)\n",
        "    b3 = TreeNode(\"b3\", 1, 1)\n",
        "    b2 = TreeNode(\"b2\", 2, 1)\n",
        "    b1 = TreeNode(\"b1\", 3, 1)\n",
        "\n",
        "    \n",
        "    c4 = TreeNode(\"c4\", 0, 2)\n",
        "    c3 = TreeNode(\"c3\", 1, 2)\n",
        "    c2 = TreeNode(\"c2\", 2, 2)\n",
        "    c1 = TreeNode(\"c1\", 3, 2)\n",
        "    \n",
        "    d4 = TreeNode(\"d4\", 0, 3)\n",
        "    d3 = TreeNode(\"d3\", 1, 3)\n",
        "    d2 = TreeNode(\"d2\", 2, 3)\n",
        "    d1 = TreeNode(\"d1\", 3, 3)\n",
        "    \n",
        "    #add nodes\n",
        "    root.add_child(b4)\n",
        "    #root.path.append(root)\n",
        "    b4.add_child(c4)\n",
        "    b4.add_path()\n",
        "    c4.add_child(c3)\n",
        "    c4.add_path()\n",
        "    c3.add_child(b3)\n",
        "    c3.add_child(c2)\n",
        "    c3.add_path()\n",
        "    ########## fills c2 i b3\n",
        "    b3.add_child(a3)\n",
        "    b3.add_child(b2)\n",
        "    b3.add_path()\n",
        "    ###########\n",
        "    a3.add_child(a2)\n",
        "    a3.add_path()\n",
        "    #########\n",
        "    a2.add_child(a1)\n",
        "    a2.add_path() \n",
        "    #########\n",
        "    a1.add_child(b1)\n",
        "    a1.add_path()\n",
        "    #########\n",
        "    b1.add_child(c1)\n",
        "    b1.add_path()\n",
        "    #########\n",
        "    c1.add_child(d1)\n",
        "    c1.add_path()\n",
        "    d1.add_path() \n",
        "    d1.add_path\n",
        "  \n",
        "    c2.add_child(b2)\n",
        "    c2.add_child(d2)\n",
        "    c2.add_path()\n",
        "    \n",
        "    b2.add_path()\n",
        "   \n",
        "    \n",
        "    d2.add_child(d3)\n",
        "    d2.add_child(d1)\n",
        "    d2.add_path()\n",
        "    d1.add_path\n",
        "  \n",
        "    d1.add_path()\n",
        "  \n",
        "    d3.add_child(d4)\n",
        "    d3.add_path()\n",
        "    d4.add_path()\n",
        "    \n",
        "    return root \n"
      ],
      "metadata": {
        "id": "yZO05qRTn3SG"
      },
      "execution_count": 94,
      "outputs": []
    },
    {
      "cell_type": "markdown",
      "source": [
        "# Sort of the list\n"
      ],
      "metadata": {
        "id": "RyhbqNN2XS6o"
      }
    },
    {
      "cell_type": "code",
      "source": [
        "\n",
        "# Find g and update with new value\n",
        "def find_g (list_tre):\n",
        "    for pepe in list_tre:\n",
        "        if pepe.get_g() == -1:\n",
        "            pepe.set_g(len(pepe.path) - 1)\n",
        "            #print(\"g:\",pepe.get_g())\n",
        "\n",
        "#find h acording to end_node and update with new value\n",
        "def find_h (list_tre):\n",
        "    for pepe in list_tre:\n",
        "        if pepe.get_h() == -1:\n",
        "            #pepe.set_h(abs(end_node.get_x() - pepe.get_x()) + abs(end_node.get_y()  pepe.get_y()))\n",
        "            pepe.set_h(abs(end_node.get_x() - pepe.get_x()) + abs(end_node.get_y() + pepe.get_y()))\n",
        "\n",
        "            #print(\"h:\",pepe.get_h())\n"
      ],
      "metadata": {
        "id": "uaKxdFg3DKaw"
      },
      "execution_count": 95,
      "outputs": []
    },
    {
      "cell_type": "markdown",
      "source": [
        "# Implementation of the algorithm A*"
      ],
      "metadata": {
        "id": "4Yu959dZhtwq"
      }
    },
    {
      "cell_type": "code",
      "source": [
        "#A* algorithm\n",
        "def A(root,end_node):\n",
        "    list_tre = [root]\n",
        "    \n",
        "    while True:\n",
        "      find_g(list_tre)\n",
        "      find_h(list_tre)\n",
        "\n",
        "      #Sort the list with the heuristic of f= g + h ,Manhattan Distance\n",
        "      #list_tre = order_node_list(list_tre)\n",
        "\n",
        "      #print(\"x:\",list_tre[0].get_x(),\"y:\",list_tre[0].get_y())\n",
        "      #print(\" Found:\",list_tre[0].path)\n",
        "      #If end = actual node\n",
        "      if (list_tre[0].get_x() == end_node.get_x() and list_tre[0].get_y() == end_node.get_y() ):\n",
        "            print(\"Best Solution Found:\",list_tre[0].path)\n",
        "            return True\n",
        "      #If there are no more tree to search and didin't found the end\n",
        "      elif len(list_tre[0].get_children()) == 0:\n",
        "            list_tre.pop(0)\n",
        "            if len(list_tre) == 0:\n",
        "                print(\"No solution found :(\")\n",
        "                return False\n",
        "      # Get the children of the actual node and repeat\n",
        "      else:\n",
        "            #get first element\n",
        "            pepe = list_tre.pop(0)\n",
        "            #print(\"child:\", pepe.get_children())\n",
        "            for child in pepe.get_children():\n",
        "                #if there is not any element stored in the list\n",
        "                if len(list_tre) == 0:\n",
        "                    list_tre.append(child)\n",
        "                    continue\n",
        "                \n",
        "                #add elements sorted, search for the position \n",
        "                #where list[i-1].heuristic < child.heuristic < list[i+1].heuristic\n",
        "                for i in range(0, len(list_tre)):\n",
        "                    #if current child is the worst heuristic in the list\n",
        "                    if len(list_tre) == i:\n",
        "                        list_tre.append(child)\n",
        "                        break\n",
        "                    #heuristic of f= g + h ,Manhattan Distance\n",
        "                    if child.g + child.h < list_tre[i].g + list_tre[i].h:\n",
        "                        list_tre.insert(i, child)\n",
        "                        break\n",
        "                list_tre.append(child)\n",
        "                #print(\"abans:\",list_tre)\n",
        "                child.add_path()\n",
        "            #print(\"despres pop\",list_tre)"
      ],
      "metadata": {
        "id": "YVJULpJ6nsET"
      },
      "execution_count": 96,
      "outputs": []
    },
    {
      "cell_type": "markdown",
      "source": [
        "# Main"
      ],
      "metadata": {
        "id": "Rmf6LiuLkomR"
      }
    },
    {
      "cell_type": "code",
      "source": [
        "# The main\n",
        "if __name__ == \"__main__\":\n",
        "    \n",
        "    end_node = TreeNode(\"a1\", 1, 1)\n",
        "    end_node1 = TreeNode(\"b1\", 2, 1)\n",
        "    root1= get_tree2()\n",
        "    #the tree 4*4\n",
        "    root = get_tree()\n",
        "    #print(root.path)\n",
        "    start = datetime.datetime.now()\n",
        "    solution = A(root,end_node)\n",
        "    solution1 = A(root1,end_node)\n",
        "    solution2 = A(root1,end_node1)\n",
        "    \n",
        "    print(\"\\n------------------------- A* -------------------------\\n\")\n",
        "    done = datetime.datetime.now()\n",
        "    elapsed = done - start\n",
        "    print (\"\\nFinished in\", elapsed.microseconds, \"microseconds\")\n",
        "    "
      ],
      "metadata": {
        "colab": {
          "base_uri": "https://localhost:8080/"
        },
        "id": "zAoBlJg_n6AC",
        "outputId": "61274716-8f84-42cc-8851-89622dc2f8ef"
      },
      "execution_count": 97,
      "outputs": [
        {
          "output_type": "stream",
          "name": "stdout",
          "text": [
            "Best Solution Found: [[a4], [b4]]\n",
            "No solution found :(\n",
            "Best Solution Found: [[d2], [d3], [d4], [c4], [b4], [b3], [c3], [c2], [b2], [b1]]\n",
            "\n",
            "------------------------- A* -------------------------\n",
            "\n",
            "\n",
            "Finished in 635 microseconds\n"
          ]
        }
      ]
    },
    {
      "cell_type": "markdown",
      "source": [
        "The best solution path is --> [[a0], [a1], [a2], [a3], [b3], [c3], [d3], [d2]]"
      ],
      "metadata": {
        "id": "VPnJ0a0UJofw"
      }
    }
  ]
}